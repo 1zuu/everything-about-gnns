{
  "cells": [
    {
      "cell_type": "code",
      "execution_count": 1,
      "metadata": {
        "colab": {
          "base_uri": "https://localhost:8080/"
        },
        "id": "Jtb76fSBH8ru",
        "outputId": "2262c645-e861-4044-cfeb-9b9e39aeb7a2"
      },
      "outputs": [],
      "source": [
        "# Install rdkit\n",
        "import sys\n",
        "import os\n",
        "import requests\n",
        "import subprocess\n",
        "import shutil\n",
        "from logging import getLogger, StreamHandler, INFO\n",
        " \n",
        " \n",
        "logger = getLogger(__name__)\n",
        "logger.addHandler(StreamHandler())\n",
        "logger.setLevel(INFO)\n",
        " \n",
        " \n",
        "def install(\n",
        "        chunk_size=4096,\n",
        "        file_name=\"Miniconda3-latest-Linux-x86_64.sh\",\n",
        "        url_base=\"https://repo.continuum.io/miniconda/\",\n",
        "        conda_path=os.path.expanduser(os.path.join(\"~\", \"miniconda\")),\n",
        "        rdkit_version=None,\n",
        "        add_python_path=True,\n",
        "        force=False):\n",
        "    \"\"\"install rdkit from miniconda\n",
        "    ```\n",
        "    import rdkit_installer\n",
        "    rdkit_installer.install()\n",
        "    ```\n",
        "    \"\"\"\n",
        " \n",
        "    python_path = os.path.join(\n",
        "        conda_path,\n",
        "        \"lib\",\n",
        "        \"python{0}.{1}\".format(*sys.version_info),\n",
        "        \"site-packages\",\n",
        "    )\n",
        " \n",
        "    if add_python_path and python_path not in sys.path:\n",
        "        logger.info(\"add {} to PYTHONPATH\".format(python_path))\n",
        "        sys.path.append(python_path)\n",
        " \n",
        "    if os.path.isdir(os.path.join(python_path, \"rdkit\")):\n",
        "        logger.info(\"rdkit is already installed\")\n",
        "        if not force:\n",
        "            return\n",
        " \n",
        "        logger.info(\"force re-install\")\n",
        " \n",
        "    url = url_base + file_name\n",
        "    python_version = \"{0}.{1}.{2}\".format(*sys.version_info)\n",
        " \n",
        "    logger.info(\"python version: {}\".format(python_version))\n",
        " \n",
        "    if os.path.isdir(conda_path):\n",
        "        logger.warning(\"remove current miniconda\")\n",
        "        shutil.rmtree(conda_path)\n",
        "    elif os.path.isfile(conda_path):\n",
        "        logger.warning(\"remove {}\".format(conda_path))\n",
        "        os.remove(conda_path)\n",
        " \n",
        "    logger.info('fetching installer from {}'.format(url))\n",
        "    res = requests.get(url, stream=True)\n",
        "    res.raise_for_status()\n",
        "    with open(file_name, 'wb') as f:\n",
        "        for chunk in res.iter_content(chunk_size):\n",
        "            f.write(chunk)\n",
        "    logger.info('done')\n",
        " \n",
        "    logger.info('installing miniconda to {}'.format(conda_path))\n",
        "    subprocess.check_call([\"bash\", file_name, \"-b\", \"-p\", conda_path])\n",
        "    logger.info('done')\n",
        " \n",
        "    logger.info(\"installing rdkit\")\n",
        "    subprocess.check_call([\n",
        "        os.path.join(conda_path, \"bin\", \"conda\"),\n",
        "        \"install\",\n",
        "        \"--yes\",\n",
        "        \"-c\", \"rdkit\",\n",
        "        \"python==3.7.3\",\n",
        "        \"rdkit\" if rdkit_version is None else \"rdkit=={}\".format(rdkit_version)])\n",
        "    logger.info(\"done\")\n",
        " \n",
        "    import rdkit\n",
        "    logger.info(\"rdkit-{} installation finished!\".format(rdkit.__version__))\n",
        " \n",
        " \n",
        "if __name__ == \"__main__\":\n",
        "    # install()\n",
        "    pass"
      ]
    },
    {
      "cell_type": "code",
      "execution_count": 2,
      "metadata": {
        "colab": {
          "base_uri": "https://localhost:8080/"
        },
        "id": "IB4JqUb1TEeW",
        "outputId": "62b42922-ce1a-44e8-a01f-0d1f26600e50"
      },
      "outputs": [
        {
          "name": "stderr",
          "output_type": "stream",
          "text": [
            "c:\\Users\\Legion\\.conda\\envs\\graph\\lib\\site-packages\\tqdm\\auto.py:22: TqdmWarning: IProgress not found. Please update jupyter and ipywidgets. See https://ipywidgets.readthedocs.io/en/stable/user_install.html\n",
            "  from .autonotebook import tqdm as notebook_tqdm\n"
          ]
        }
      ],
      "source": [
        "import torch\n",
        "\n",
        "# def format_pytorch_version(version):\n",
        "#   return version.split('+')[0]\n",
        "\n",
        "# TORCH_version = torch.__version__\n",
        "# TORCH = format_pytorch_version(TORCH_version)\n",
        "\n",
        "# def format_cuda_version(version):\n",
        "#   return 'cu' + version.replace('.', '')\n",
        "\n",
        "# CUDA_version = torch.version.cuda\n",
        "# CUDA = format_cuda_version(CUDA_version)\n",
        "\n",
        "# !pip install torch-scatter -f https://data.pyg.org/whl/torch-{TORCH}+{CUDA}.html\n",
        "# !pip install torch-sparse -f https://data.pyg.org/whl/torch-{TORCH}+{CUDA}.html\n",
        "# !pip install torch-cluster -f https://data.pyg.org/whl/torch-{TORCH}+{CUDA}.html\n",
        "# !pip install torch-spline-conv -f https://data.pyg.org/whl/torch-{TORCH}+{CUDA}.html\n",
        "# !pip install torch-geometric"
      ]
    },
    {
      "cell_type": "code",
      "execution_count": 3,
      "metadata": {
        "id": "paPImX7pHieG"
      },
      "outputs": [],
      "source": [
        "import warnings\n",
        "warnings.filterwarnings(\"ignore\")\n",
        "\n",
        "import rdkit\n",
        "from rdkit import Chem\n",
        "from rdkit.Chem.Draw import IPythonConsole\n",
        "\n",
        "import torch, os\n",
        "import torch_geometric\n",
        "from torch.nn import Linear\n",
        "import torch.nn.functional as F\n",
        "from torch_geometric.data import DataLoader\n",
        "from torch_geometric.datasets import MoleculeNet\n",
        "from torch_geometric.utils.convert import to_networkx\n",
        "from torch_geometric.nn import GCNConv, TopKPooling, global_mean_pool\n",
        "from torch_geometric.nn import global_mean_pool as gap, global_max_pool as gmp\n",
        "\n",
        "import numpy as np\n",
        "import pandas as pd\n",
        "import networkx as nx\n",
        "import seaborn as sns\n",
        "import matplotlib.pyplot as plt\n",
        "from sklearn.utils import shuffle\n",
        "from itertools import combinations\n",
        "from matplotlib import pyplot as plt"
      ]
    },
    {
      "cell_type": "code",
      "execution_count": 4,
      "metadata": {
        "id": "4jr8uXCoUZV7"
      },
      "outputs": [],
      "source": [
        "working_dir = 'data/bench-mark/'\n",
        "collection = 'MoleculeNet'\n",
        "dataset = 'ESOL'\n",
        "\n",
        "data_dir = os.path.join(working_dir, collection)"
      ]
    },
    {
      "cell_type": "markdown",
      "metadata": {},
      "source": [
        "## Dataset\n",
        "\n",
        "**ESOL is a small dataset consisting of water solubility data for 1128 compounds. The dataset has been used to train models that estimate solubility directly from chemical structures (as encoded in SMILES strings). Note that these structures don’t include 3D coordinates, since solubility is a property of a molecule and not of its particular conformers.**"
      ]
    },
    {
      "cell_type": "code",
      "execution_count": 5,
      "metadata": {
        "colab": {
          "base_uri": "https://localhost:8080/"
        },
        "id": "K3itnsd7PqMb",
        "outputId": "7b7273a8-0545-49de-acdb-0f1e8ad04ecf"
      },
      "outputs": [
        {
          "name": "stdout",
          "output_type": "stream",
          "text": [
            "Dataset type:  <class 'torch_geometric.datasets.molecule_net.MoleculeNet'>\n",
            "Dataset features:  9\n",
            "Dataset target:  734\n",
            "Dataset length:  <bound method InMemoryDataset.len of ESOL(1128)>\n",
            "Dataset sample:  Data(x=[32, 9], edge_index=[2, 68], edge_attr=[68, 3], y=[1, 1], smiles='OCC3OC(OCC2OC(OC(C#N)c1ccccc1)C(O)C(O)C2O)C(O)C(O)C3O ')\n",
            "Sample  nodes:  32\n",
            "Sample  edges:  68\n",
            "================= Analyze Single Molecule ===============================\n",
            "Number of nodes: 32\n",
            "Number of edges: 68\n",
            "Average node degree: 2.12\n",
            "Has isolated nodes: False\n",
            "Has self-loops: False\n",
            "Is undirected: True\n"
          ]
        }
      ],
      "source": [
        "data = MoleculeNet(root=data_dir, name=dataset)\n",
        "\n",
        "print(\"Dataset type: \", type(data))\n",
        "print(\"Dataset features: \", data.num_features)\n",
        "print(\"Dataset target: \", data.num_classes)\n",
        "print(\"Dataset length: \", data.len)\n",
        "print(\"Dataset sample: \", data[0])\n",
        "print(\"Sample  nodes: \", data[0].num_nodes)\n",
        "print(\"Sample  edges: \", data[0].num_edges)\n",
        "\n",
        "\n",
        "data0 = data[0]  # Get the first graph object.\n",
        "print('================= Analyze Single Molecule ===============================')\n",
        "\n",
        "# Gather some statistics about the first graph.\n",
        "print(f'Number of nodes: {data0.num_nodes}')\n",
        "print(f'Number of edges: {data0.num_edges}')\n",
        "print(f'Average node degree: {data0.num_edges / data0.num_nodes:.2f}')\n",
        "print(f'Has isolated nodes: {data0.has_isolated_nodes()}')\n",
        "print(f'Has self-loops: {data0.has_self_loops()}')\n",
        "print(f'Is undirected: {data0.is_undirected()}')"
      ]
    },
    {
      "cell_type": "markdown",
      "metadata": {},
      "source": [
        "### Let's Analyze a Single Molecule Graph"
      ]
    },
    {
      "cell_type": "code",
      "execution_count": 6,
      "metadata": {
        "colab": {
          "base_uri": "https://localhost:8080/",
          "height": 319
        },
        "id": "DkF7_onDP8-0",
        "outputId": "277343fd-dc3d-46ff-aac3-d6f04bb3dbee"
      },
      "outputs": [
        {
          "data": {
            "image/png": "[encoded data removed]",
            "text/plain": [
              "<Figure size 432x288 with 1 Axes>"
            ]
          },
          "metadata": {},
          "output_type": "display_data"
        }
      ],
      "source": [
        "graph0 = to_networkx(data0, to_undirected=True)\n",
        "nx.draw(graph0)"
      ]
    },
    {
      "cell_type": "code",
      "execution_count": 7,
      "metadata": {
        "colab": {
          "base_uri": "https://localhost:8080/",
          "height": 36
        },
        "id": "TUSrdfcxG6iJ",
        "outputId": "c45a0a05-3032-48f4-8559-4fba94ec995d"
      },
      "outputs": [
        {
          "data": {
            "text/plain": [
              "'OCC3OC(OCC2OC(OC(C#N)c1ccccc1)C(O)C(O)C2O)C(O)C(O)C3O '"
            ]
          },
          "execution_count": 7,
          "metadata": {},
          "output_type": "execute_result"
        }
      ],
      "source": [
        "\n",
        "smile0 = data0[\"smiles\"]\n",
        "smile0"
      ]
    },
    {
      "cell_type": "code",
      "execution_count": 8,
      "metadata": {
        "colab": {
          "base_uri": "https://localhost:8080/",
          "height": 167
        },
        "id": "5v3-HxwsNdEP",
        "outputId": "f98f88e7-7eb5-4187-c8d3-4c9bb27d21c4"
      },
      "outputs": [
        {
          "data": {
            "image/png": "[encoded data removed]",
            "text/plain": [
              "<rdkit.Chem.rdchem.Mol at 0x20212419030>"
            ]
          },
          "execution_count": 8,
          "metadata": {},
          "output_type": "execute_result"
        }
      ],
      "source": [
        "molecule0 = Chem.MolFromSmiles(smile0)\n",
        "molecule0"
      ]
    },
    {
      "cell_type": "code",
      "execution_count": 9,
      "metadata": {
        "id": "OvWSFhVJNtCX"
      },
      "outputs": [],
      "source": [
        "class GCN(torch.nn.Module):\n",
        "    def __init__(self, hidden_dim = 64):\n",
        "        # Init parent\n",
        "        super(GCN, self).__init__()\n",
        "        torch.manual_seed(42)\n",
        "\n",
        "        # GCN layers (Message Passing Layers)\n",
        "        self.initial_conv = GCNConv(data.num_features, hidden_dim)\n",
        "        self.conv1 = GCNConv(hidden_dim, hidden_dim)\n",
        "        self.conv2 = GCNConv(hidden_dim, hidden_dim)\n",
        "        self.conv3 = GCNConv(hidden_dim, hidden_dim)\n",
        "\n",
        "        # Output layer\n",
        "        self.out = Linear(hidden_dim*2, 1)\n",
        "\n",
        "    def forward(self, x, edge_index, batch_index):\n",
        "        # First Conv layer\n",
        "        hidden = self.initial_conv(x, edge_index)\n",
        "        hidden = F.tanh(hidden)\n",
        "\n",
        "        # Other Conv layers\n",
        "        hidden = self.conv1(hidden, edge_index)\n",
        "        hidden = F.tanh(hidden)\n",
        "        hidden = self.conv2(hidden, edge_index)\n",
        "        hidden = F.tanh(hidden)\n",
        "        hidden = self.conv3(hidden, edge_index)\n",
        "        hidden = F.tanh(hidden)\n",
        "          \n",
        "        # Global Pooling (stack different aggregations)\n",
        "        hidden = torch.cat([gmp(hidden, batch_index), \n",
        "                            gap(hidden, batch_index)], dim=1)\n",
        "\n",
        "        '''\n",
        "        The reason we pass batch_index to the pooling functions is that we want to\n",
        "        select the correct nodes for each graph in the batch. \n",
        "        '''\n",
        "        \n",
        "        # Apply a final (linear) classifier.\n",
        "        out = self.out(hidden)\n",
        "\n",
        "        return out, hidden"
      ]
    },
    {
      "cell_type": "code",
      "execution_count": 10,
      "metadata": {
        "colab": {
          "base_uri": "https://localhost:8080/"
        },
        "id": "ZU8r4thtVg2W",
        "outputId": "55d7b435-704a-478f-f126-39c33b287445"
      },
      "outputs": [
        {
          "data": {
            "text/plain": [
              "GCN(\n",
              "  (initial_conv): GCNConv(9, 64)\n",
              "  (conv1): GCNConv(64, 64)\n",
              "  (conv2): GCNConv(64, 64)\n",
              "  (conv3): GCNConv(64, 64)\n",
              "  (out): Linear(in_features=128, out_features=1, bias=True)\n",
              ")"
            ]
          },
          "execution_count": 10,
          "metadata": {},
          "output_type": "execute_result"
        }
      ],
      "source": [
        "model = GCN()\n",
        "model"
      ]
    },
    {
      "cell_type": "code",
      "execution_count": 11,
      "metadata": {
        "id": "7_1pw0GVW4W1"
      },
      "outputs": [],
      "source": [
        "class MoleculeClassification(object):\n",
        "    def __init__(self):\n",
        "        self.loss_fn = torch.nn.MSELoss()\n",
        "        self.optimizer = torch.optim.Adam(\n",
        "                                    model.parameters(), \n",
        "                                    lr = 0.0007\n",
        "                                    )  \n",
        "\n",
        "        # Use GPU for training\n",
        "        self.device = torch.device(\"cuda:0\" if torch.cuda.is_available() else \"cpu\")\n",
        "        if torch.cuda.is_available():\n",
        "            print(\"Using GPU\")\n",
        "        else:\n",
        "            print(\"Using CPU\")\n",
        "            \n",
        "        self.model = model.to(self.device)\n",
        "        self.TorchDataLoader()\n",
        "\n",
        "    def TorchDataLoader(self, batch_size = 16, train_split = 0.8):\n",
        "        data_size = len(data)\n",
        "        self.loader = DataLoader(\n",
        "                            data[:int(data_size * train_split)], \n",
        "                            batch_size=batch_size, \n",
        "                            shuffle=True\n",
        "                            )\n",
        "\n",
        "        self.test_loader = DataLoader(\n",
        "                            data[int(data_size * (1 - train_split)):], \n",
        "                            batch_size=batch_size, \n",
        "                            shuffle=True\n",
        "                            )\n",
        "\n",
        "    def train_epoch(self):\n",
        "        self.model.train()\n",
        "        for batch in self.loader:\n",
        "            batch.to(self.device)  \n",
        "            self.optimizer.zero_grad() \n",
        "            pred, embedding = self.model(batch.x.float(), batch.edge_index, batch.batch) \n",
        "            loss = self.loss_fn(pred, batch.y)     \n",
        "            loss.backward()  \n",
        "            self.optimizer.step()   \n",
        "        return loss, embedding\n",
        "\n",
        "    def train(self, epoches = 2000):\n",
        "        print(\"Starting training...\")\n",
        "        losses = []\n",
        "        for epoch in range(epoches):\n",
        "            loss, h = self.train_epoch()\n",
        "            loss = loss.item()\n",
        "            losses.append(loss)\n",
        "            if epoch % 100 == 0:\n",
        "              print(f\"Epoch {epoch} | Train Loss {loss}\")\n",
        "        self.plot_loss(losses)\n",
        "\n",
        "    def plot_loss(self, losses):\n",
        "        losses_float = [loss for loss in losses] \n",
        "        loss_indices = [i for i,l in enumerate(losses_float)] \n",
        "        plt = sns.lineplot(loss_indices, losses_float)\n",
        "\n",
        "    def predictions(self):\n",
        "        # Analyze the results for one batch\n",
        "        test_batch = next(iter(self.test_loader))\n",
        "        with torch.no_grad():\n",
        "            test_batch.to(self.device)\n",
        "            pred, embed = self.model(test_batch.x.float(), test_batch.edge_index, test_batch.batch) \n",
        "            df = pd.DataFrame()\n",
        "            df[\"y_real\"] = test_batch.y.tolist()\n",
        "            df[\"y_pred\"] = pred.tolist()\n",
        "        df[\"y_real\"] = df[\"y_real\"].apply(lambda row: row[0])\n",
        "        df[\"y_pred\"] = df[\"y_pred\"].apply(lambda row: row[0])\n",
        "        return df"
      ]
    },
    {
      "cell_type": "code",
      "execution_count": 12,
      "metadata": {
        "colab": {
          "base_uri": "https://localhost:8080/",
          "height": 642
        },
        "id": "uQ1UGnMlZnuY",
        "outputId": "01609375-a813-46ff-cd11-1b66d83229ca"
      },
      "outputs": [
        {
          "name": "stdout",
          "output_type": "stream",
          "text": [
            "Using GPU\n",
            "Starting training...\n",
            "Epoch 0 | Train Loss 8.272598266601562\n",
            "Epoch 100 | Train Loss 0.9255666732788086\n",
            "Epoch 200 | Train Loss 0.2737504243850708\n",
            "Epoch 300 | Train Loss 0.25680217146873474\n",
            "Epoch 400 | Train Loss 0.08341541141271591\n",
            "Epoch 500 | Train Loss 0.08088754117488861\n",
            "Epoch 600 | Train Loss 0.27189865708351135\n",
            "Epoch 700 | Train Loss 0.04874124377965927\n",
            "Epoch 800 | Train Loss 0.057118549942970276\n",
            "Epoch 900 | Train Loss 0.0076979356817901134\n",
            "Epoch 1000 | Train Loss 0.040043920278549194\n",
            "Epoch 1100 | Train Loss 0.017363794147968292\n",
            "Epoch 1200 | Train Loss 0.08132185786962509\n",
            "Epoch 1300 | Train Loss 0.02288127690553665\n",
            "Epoch 1400 | Train Loss 0.011043824255466461\n",
            "Epoch 1500 | Train Loss 0.005278063006699085\n",
            "Epoch 1600 | Train Loss 0.06076434999704361\n",
            "Epoch 1700 | Train Loss 0.0031152653973549604\n",
            "Epoch 1800 | Train Loss 0.04859023541212082\n",
            "Epoch 1900 | Train Loss 0.004716080613434315\n"
          ]
        },
        {
          "data": {
            "image/png": "[encoded data removed]",
            "text/plain": [
              "<Figure size 432x288 with 1 Axes>"
            ]
          },
          "metadata": {
            "needs_background": "light"
          },
          "output_type": "display_data"
        }
      ],
      "source": [
        "classifier = MoleculeClassification()\n",
        "classifier.train()"
      ]
    },
    {
      "cell_type": "code",
      "execution_count": 13,
      "metadata": {
        "colab": {
          "base_uri": "https://localhost:8080/",
          "height": 423
        },
        "id": "sUB1kdLb68yC",
        "outputId": "d2c59f36-6f66-48b8-f7f2-c1d216edd513"
      },
      "outputs": [
        {
          "data": {
            "text/html": [
              "<div>\n",
              "<style scoped>\n",
              "    .dataframe tbody tr th:only-of-type {\n",
              "        vertical-align: middle;\n",
              "    }\n",
              "\n",
              "    .dataframe tbody tr th {\n",
              "        vertical-align: top;\n",
              "    }\n",
              "\n",
              "    .dataframe thead th {\n",
              "        text-align: right;\n",
              "    }\n",
              "</style>\n",
              "<table border=\"1\" class=\"dataframe\">\n",
              "  <thead>\n",
              "    <tr style=\"text-align: right;\">\n",
              "      <th></th>\n",
              "      <th>y_real</th>\n",
              "      <th>y_pred</th>\n",
              "    </tr>\n",
              "  </thead>\n",
              "  <tbody>\n",
              "    <tr>\n",
              "      <th>0</th>\n",
              "      <td>-0.460</td>\n",
              "      <td>-0.499920</td>\n",
              "    </tr>\n",
              "    <tr>\n",
              "      <th>1</th>\n",
              "      <td>-2.300</td>\n",
              "      <td>-2.243564</td>\n",
              "    </tr>\n",
              "    <tr>\n",
              "      <th>2</th>\n",
              "      <td>-1.990</td>\n",
              "      <td>-1.998772</td>\n",
              "    </tr>\n",
              "    <tr>\n",
              "      <th>3</th>\n",
              "      <td>-2.590</td>\n",
              "      <td>-2.666678</td>\n",
              "    </tr>\n",
              "    <tr>\n",
              "      <th>4</th>\n",
              "      <td>-4.500</td>\n",
              "      <td>-4.345428</td>\n",
              "    </tr>\n",
              "    <tr>\n",
              "      <th>5</th>\n",
              "      <td>-0.620</td>\n",
              "      <td>-0.638031</td>\n",
              "    </tr>\n",
              "    <tr>\n",
              "      <th>6</th>\n",
              "      <td>-2.593</td>\n",
              "      <td>-2.467275</td>\n",
              "    </tr>\n",
              "    <tr>\n",
              "      <th>7</th>\n",
              "      <td>-5.850</td>\n",
              "      <td>-5.253547</td>\n",
              "    </tr>\n",
              "    <tr>\n",
              "      <th>8</th>\n",
              "      <td>-3.800</td>\n",
              "      <td>-3.832786</td>\n",
              "    </tr>\n",
              "    <tr>\n",
              "      <th>9</th>\n",
              "      <td>0.790</td>\n",
              "      <td>0.092433</td>\n",
              "    </tr>\n",
              "    <tr>\n",
              "      <th>10</th>\n",
              "      <td>-1.040</td>\n",
              "      <td>-2.787206</td>\n",
              "    </tr>\n",
              "    <tr>\n",
              "      <th>11</th>\n",
              "      <td>-1.989</td>\n",
              "      <td>-1.971520</td>\n",
              "    </tr>\n",
              "    <tr>\n",
              "      <th>12</th>\n",
              "      <td>-4.880</td>\n",
              "      <td>-4.710926</td>\n",
              "    </tr>\n",
              "    <tr>\n",
              "      <th>13</th>\n",
              "      <td>-1.110</td>\n",
              "      <td>-1.014586</td>\n",
              "    </tr>\n",
              "    <tr>\n",
              "      <th>14</th>\n",
              "      <td>-0.240</td>\n",
              "      <td>-1.166243</td>\n",
              "    </tr>\n",
              "    <tr>\n",
              "      <th>15</th>\n",
              "      <td>-7.920</td>\n",
              "      <td>-7.962914</td>\n",
              "    </tr>\n",
              "  </tbody>\n",
              "</table>\n",
              "</div>"
            ],
            "text/plain": [
              "    y_real    y_pred\n",
              "0   -0.460 -0.499920\n",
              "1   -2.300 -2.243564\n",
              "2   -1.990 -1.998772\n",
              "3   -2.590 -2.666678\n",
              "4   -4.500 -4.345428\n",
              "5   -0.620 -0.638031\n",
              "6   -2.593 -2.467275\n",
              "7   -5.850 -5.253547\n",
              "8   -3.800 -3.832786\n",
              "9    0.790  0.092433\n",
              "10  -1.040 -2.787206\n",
              "11  -1.989 -1.971520\n",
              "12  -4.880 -4.710926\n",
              "13  -1.110 -1.014586\n",
              "14  -0.240 -1.166243\n",
              "15  -7.920 -7.962914"
            ]
          },
          "execution_count": 13,
          "metadata": {},
          "output_type": "execute_result"
        }
      ],
      "source": [
        "df_batch = classifier.predictions()\n",
        "df_batch"
      ]
    },
    {
      "cell_type": "code",
      "execution_count": 14,
      "metadata": {
        "colab": {
          "base_uri": "https://localhost:8080/",
          "height": 302
        },
        "id": "sqbaZvD076AH",
        "outputId": "dfb2f755-8e7e-46c6-d552-ef5668361beb"
      },
      "outputs": [
        {
          "data": {
            "text/plain": [
              "[(-7.0, 2.0)]"
            ]
          },
          "execution_count": 14,
          "metadata": {},
          "output_type": "execute_result"
        },
        {
          "data": {
            "image/png": "[encoded data removed]",
            "text/plain": [
              "<Figure size 432x288 with 1 Axes>"
            ]
          },
          "metadata": {
            "needs_background": "light"
          },
          "output_type": "display_data"
        }
      ],
      "source": [
        "plt = sns.scatterplot(data=df_batch, x=\"y_real\", y=\"y_pred\")\n",
        "plt.set(xlim=(-7, 2))\n",
        "plt.set(ylim=(-7, 2))"
      ]
    },
    {
      "cell_type": "markdown",
      "metadata": {
        "id": "6KMKb1Lc38rQ"
      },
      "source": [
        "# Why Global Graph Pooling ??\n",
        "  \n",
        "Graphs Have Different Sizes (Different Number of Nodes & Edges). Since we doing  **Graph Level** Prediction we need perform this representative learning networks for dynamic sizes of graphs with fixed size output. So we use **Global Pooling Mechanism** to squeeze any number of nodes (differnet sizes) into one fixed representation. Here we use MEAN & MAX global pooling techniques in that case\n",
        "\n"
      ]
    }
  ],
  "metadata": {
    "accelerator": "GPU",
    "colab": {
      "authorship_tag": "ABX9TyO8LR2dO9lilf/R2Rz3iIpi",
      "collapsed_sections": [],
      "include_colab_link": true,
      "name": "7_GNN_Tasks_Molecule_Graph_Classification.ipynb",
      "provenance": []
    },
    "gpuClass": "standard",
    "kernelspec": {
      "display_name": "Python 3.7.13 ('graph')",
      "language": "python",
      "name": "python3"
    },
    "language_info": {
      "codemirror_mode": {
        "name": "ipython",
        "version": 3
      },
      "file_extension": ".py",
      "mimetype": "text/x-python",
      "name": "python",
      "nbconvert_exporter": "python",
      "pygments_lexer": "ipython3",
      "version": "3.7.13"
    },
    "vscode": {
      "interpreter": {
        "hash": "4a3e424c1b8e95588f3cf11bd69bb9a4aea9190b642aedfe6d03a08de2fda68a"
      }
    }
  },
  "nbformat": 4,
  "nbformat_minor": 0
}
